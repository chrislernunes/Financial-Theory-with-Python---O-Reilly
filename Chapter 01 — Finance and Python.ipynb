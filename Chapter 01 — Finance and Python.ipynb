{
 "cells": [
  {
   "cell_type": "code",
   "execution_count": 1,
   "id": "fa36d8aa",
   "metadata": {},
   "outputs": [],
   "source": [
    "vu = 1.5"
   ]
  },
  {
   "cell_type": "code",
   "execution_count": 2,
   "id": "35e5e0a7",
   "metadata": {},
   "outputs": [],
   "source": [
    "vd = 3.75"
   ]
  },
  {
   "cell_type": "code",
   "execution_count": 3,
   "id": "41354058",
   "metadata": {},
   "outputs": [
    {
     "data": {
      "text/plain": [
       "float"
      ]
     },
     "execution_count": 3,
     "metadata": {},
     "output_type": "execute_result"
    }
   ],
   "source": [
    "type(vu)"
   ]
  },
  {
   "cell_type": "code",
   "execution_count": 4,
   "id": "5ce394a5",
   "metadata": {},
   "outputs": [
    {
     "data": {
      "text/plain": [
       "5.25"
      ]
     },
     "execution_count": 4,
     "metadata": {},
     "output_type": "execute_result"
    }
   ],
   "source": [
    "vu + vd"
   ]
  },
  {
   "cell_type": "code",
   "execution_count": 5,
   "id": "9ce8d2c0",
   "metadata": {},
   "outputs": [],
   "source": [
    "import numpy as np"
   ]
  },
  {
   "cell_type": "code",
   "execution_count": 6,
   "id": "71e32712",
   "metadata": {},
   "outputs": [],
   "source": [
    "v = np.array((vu, vd))"
   ]
  },
  {
   "cell_type": "code",
   "execution_count": 7,
   "id": "b7d02a2a",
   "metadata": {},
   "outputs": [
    {
     "data": {
      "text/plain": [
       "array([1.5 , 3.75])"
      ]
     },
     "execution_count": 7,
     "metadata": {},
     "output_type": "execute_result"
    }
   ],
   "source": [
    "v"
   ]
  },
  {
   "cell_type": "code",
   "execution_count": 8,
   "id": "31a3c2ce",
   "metadata": {},
   "outputs": [
    {
     "data": {
      "text/plain": [
       "dtype('float64')"
      ]
     },
     "execution_count": 8,
     "metadata": {},
     "output_type": "execute_result"
    }
   ],
   "source": [
    "v.dtype"
   ]
  },
  {
   "cell_type": "code",
   "execution_count": 9,
   "id": "8357fa47",
   "metadata": {},
   "outputs": [
    {
     "data": {
      "text/plain": [
       "(2,)"
      ]
     },
     "execution_count": 9,
     "metadata": {},
     "output_type": "execute_result"
    }
   ],
   "source": [
    "v.shape"
   ]
  },
  {
   "cell_type": "code",
   "execution_count": 10,
   "id": "4ecc4983",
   "metadata": {},
   "outputs": [
    {
     "data": {
      "text/plain": [
       "array([3. , 7.5])"
      ]
     },
     "execution_count": 10,
     "metadata": {},
     "output_type": "execute_result"
    }
   ],
   "source": [
    "v + v"
   ]
  },
  {
   "cell_type": "code",
   "execution_count": 11,
   "id": "945195b3",
   "metadata": {},
   "outputs": [
    {
     "data": {
      "text/plain": [
       "array([ 4.5 , 11.25])"
      ]
     },
     "execution_count": 11,
     "metadata": {},
     "output_type": "execute_result"
    }
   ],
   "source": [
    "3 * v"
   ]
  },
  {
   "cell_type": "code",
   "execution_count": 12,
   "id": "df8b4fe9",
   "metadata": {},
   "outputs": [],
   "source": [
    "S = np.array((20, 5))"
   ]
  },
  {
   "cell_type": "code",
   "execution_count": 13,
   "id": "eaa303d3",
   "metadata": {},
   "outputs": [],
   "source": [
    "K = 15"
   ]
  },
  {
   "cell_type": "code",
   "execution_count": 14,
   "id": "829e341a",
   "metadata": {},
   "outputs": [],
   "source": [
    "C = np.maximum(S - K, 0)"
   ]
  },
  {
   "cell_type": "code",
   "execution_count": 15,
   "id": "a3711040",
   "metadata": {},
   "outputs": [
    {
     "data": {
      "text/plain": [
       "array([5, 0])"
      ]
     },
     "execution_count": 15,
     "metadata": {},
     "output_type": "execute_result"
    }
   ],
   "source": [
    "C"
   ]
  }
 ],
 "metadata": {
  "kernelspec": {
   "display_name": "Python 3 (ipykernel)",
   "language": "python",
   "name": "python3"
  },
  "language_info": {
   "codemirror_mode": {
    "name": "ipython",
    "version": 3
   },
   "file_extension": ".py",
   "mimetype": "text/x-python",
   "name": "python",
   "nbconvert_exporter": "python",
   "pygments_lexer": "ipython3",
   "version": "3.9.7"
  }
 },
 "nbformat": 4,
 "nbformat_minor": 5
}
